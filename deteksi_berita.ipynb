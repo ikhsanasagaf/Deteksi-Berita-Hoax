{
 "cells": [
  {
   "cell_type": "code",
   "execution_count": 3,
   "metadata": {
    "id": "uPijGTha0kN5"
   },
   "outputs": [],
   "source": [
    "import numpy as np\n",
    "import pandas as pd\n",
    "import nltk\n",
    "from nltk.tokenize import word_tokenize\n",
    "from sklearn.preprocessing import LabelEncoder\n",
    "from sklearn.feature_extraction.text import TfidfVectorizer\n",
    "from sklearn.naive_bayes import MultinomialNB\n",
    "from sklearn.metrics import accuracy_score, classification_report\n",
    "from sklearn.model_selection import train_test_split\n",
    "from Sastrawi.Stemmer.StemmerFactory import StemmerFactory\n",
    "import pickle # To save model"
   ]
  },
  {
   "cell_type": "code",
   "execution_count": 4,
   "metadata": {},
   "outputs": [
    {
     "name": "stderr",
     "output_type": "stream",
     "text": [
      "[nltk_data] Downloading package punkt to\n",
      "[nltk_data]     C:\\Users\\ikhsa\\AppData\\Roaming\\nltk_data...\n",
      "[nltk_data]   Package punkt is already up-to-date!\n"
     ]
    },
    {
     "data": {
      "text/plain": [
       "True"
      ]
     },
     "execution_count": 4,
     "metadata": {},
     "output_type": "execute_result"
    }
   ],
   "source": [
    "# Random seed for consistency\n",
    "np.random.seed(42)\n",
    "\n",
    "nltk.download('punkt')"
   ]
  },
  {
   "cell_type": "code",
   "execution_count": 5,
   "metadata": {},
   "outputs": [],
   "source": [
    "# Label Encoder use to Encode target labels with value between 0 and n_classes-1\n",
    "Encoder = LabelEncoder()"
   ]
  },
  {
   "cell_type": "code",
   "execution_count": 6,
   "metadata": {},
   "outputs": [],
   "source": [
    "# create stemmer\n",
    "factory = StemmerFactory()\n",
    "stemmer = factory.create_stemmer()"
   ]
  },
  {
   "cell_type": "code",
   "execution_count": 7,
   "metadata": {},
   "outputs": [],
   "source": [
    "# TfidfVectorizer Convert a collection of raw documents to a matrix of TF-IDF features.\n",
    "Tfidf_vect = TfidfVectorizer()"
   ]
  },
  {
   "cell_type": "code",
   "execution_count": 8,
   "metadata": {
    "colab": {
     "base_uri": "https://localhost:8080/",
     "height": 293
    },
    "id": "OMflYT5b4HV5",
    "outputId": "24fa4450-771f-4bb9-d08c-18f4a2d3ff14"
   },
   "outputs": [
    {
     "data": {
      "text/plain": [
       "label\n",
       "1    3465\n",
       "0     766\n",
       "Name: count, dtype: int64"
      ]
     },
     "execution_count": 8,
     "metadata": {},
     "output_type": "execute_result"
    }
   ],
   "source": [
    "data = pd.read_csv(\"dataset/Data_latih.csv\")\n",
    "data.head(5)\n",
    "data['label'].value_counts()"
   ]
  },
  {
   "cell_type": "code",
   "execution_count": 9,
   "metadata": {},
   "outputs": [
    {
     "data": {
      "text/html": [
       "<div>\n",
       "<style scoped>\n",
       "    .dataframe tbody tr th:only-of-type {\n",
       "        vertical-align: middle;\n",
       "    }\n",
       "\n",
       "    .dataframe tbody tr th {\n",
       "        vertical-align: top;\n",
       "    }\n",
       "\n",
       "    .dataframe thead th {\n",
       "        text-align: right;\n",
       "    }\n",
       "</style>\n",
       "<table border=\"1\" class=\"dataframe\">\n",
       "  <thead>\n",
       "    <tr style=\"text-align: right;\">\n",
       "      <th></th>\n",
       "      <th>Judul</th>\n",
       "      <th>Waktu</th>\n",
       "      <th>Link</th>\n",
       "      <th>Content</th>\n",
       "      <th>tag1</th>\n",
       "      <th>tag2</th>\n",
       "      <th>tag3</th>\n",
       "      <th>tag4</th>\n",
       "      <th>tag5</th>\n",
       "      <th>source</th>\n",
       "    </tr>\n",
       "  </thead>\n",
       "  <tbody>\n",
       "    <tr>\n",
       "      <th>0</th>\n",
       "      <td>Jokowi Kenakan Pakaian Adat Betawi di Sidang T...</td>\n",
       "      <td>16/08/2024</td>\n",
       "      <td>https://nasional.kompas.com/read/2024/08/16/11...</td>\n",
       "      <td>JAKARTA, KOMPAS.com - Presiden Joko Widodo me...</td>\n",
       "      <td>Presiden Jokowi</td>\n",
       "      <td>Jokowi</td>\n",
       "      <td>sidang tahunan MPR RI 2024</td>\n",
       "      <td>Jokowi adat Betawi sidang mpr 2024</td>\n",
       "      <td>Megawati tak hadiri sidang tahunan MPR 2024</td>\n",
       "      <td>kompas</td>\n",
       "    </tr>\n",
       "    <tr>\n",
       "      <th>1</th>\n",
       "      <td>Amnesty International Beberkan 6 Indikator Kri...</td>\n",
       "      <td>2024-07-18</td>\n",
       "      <td>https://nasional.tempo.co/read/1893144/amnesty...</td>\n",
       "      <td>TEMPO.CO, Jakarta - Amnesty International Indo...</td>\n",
       "      <td>Amnesty International</td>\n",
       "      <td>Amnesty International Indonesia</td>\n",
       "      <td>Kebebasan Berpendapat</td>\n",
       "      <td>Indeks Demokrasi</td>\n",
       "      <td>Revisi UU TNI</td>\n",
       "      <td>tempo</td>\n",
       "    </tr>\n",
       "    <tr>\n",
       "      <th>2</th>\n",
       "      <td>Jelang Long Weekend, Stasiun Kereta Cepat Hali...</td>\n",
       "      <td>Rabu, 08 Mei  2024 19:18 WIB</td>\n",
       "      <td>https://news.detik.com/berita/d-7331666/jelang...</td>\n",
       "      <td>Stasiun kereta cepat Whoosh di Halim, Jakarta ...</td>\n",
       "      <td>kereta cepat whoosh</td>\n",
       "      <td>stasiun halim</td>\n",
       "      <td>long weekend</td>\n",
       "      <td>NaN</td>\n",
       "      <td>NaN</td>\n",
       "      <td>detik</td>\n",
       "    </tr>\n",
       "    <tr>\n",
       "      <th>3</th>\n",
       "      <td>KPU Tegaskan Pemilih Tak Terdaftar di DPT Bisa...</td>\n",
       "      <td>13/02/2024</td>\n",
       "      <td>https://nasional.kompas.com/read/2024/02/13/21...</td>\n",
       "      <td>JAKARTA, KOMPAS.com - Komisi Pemilihan Umum (...</td>\n",
       "      <td>KPU</td>\n",
       "      <td>pemilu 2024</td>\n",
       "      <td>Hasyim Asy'ari</td>\n",
       "      <td>NaN</td>\n",
       "      <td>NaN</td>\n",
       "      <td>kompas</td>\n",
       "    </tr>\n",
       "    <tr>\n",
       "      <th>4</th>\n",
       "      <td>Kemenag Luncurkan Gerakan Senam Haji Jaga Keta...</td>\n",
       "      <td>2024-04-29</td>\n",
       "      <td>https://nasional.tempo.co/read/1861810/kemenag...</td>\n",
       "      <td>TEMPO.CO, Jakarta - Kementerian Agama atau Kem...</td>\n",
       "      <td>Senam Haji</td>\n",
       "      <td>Kemenag</td>\n",
       "      <td>Jemaah Haji</td>\n",
       "      <td>Ibadah Haji</td>\n",
       "      <td>Asrama Haji</td>\n",
       "      <td>tempo</td>\n",
       "    </tr>\n",
       "  </tbody>\n",
       "</table>\n",
       "</div>"
      ],
      "text/plain": [
       "                                               Judul  \\\n",
       "0  Jokowi Kenakan Pakaian Adat Betawi di Sidang T...   \n",
       "1  Amnesty International Beberkan 6 Indikator Kri...   \n",
       "2  Jelang Long Weekend, Stasiun Kereta Cepat Hali...   \n",
       "3  KPU Tegaskan Pemilih Tak Terdaftar di DPT Bisa...   \n",
       "4  Kemenag Luncurkan Gerakan Senam Haji Jaga Keta...   \n",
       "\n",
       "                          Waktu  \\\n",
       "0                    16/08/2024   \n",
       "1                    2024-07-18   \n",
       "2  Rabu, 08 Mei  2024 19:18 WIB   \n",
       "3                    13/02/2024   \n",
       "4                    2024-04-29   \n",
       "\n",
       "                                                Link  \\\n",
       "0  https://nasional.kompas.com/read/2024/08/16/11...   \n",
       "1  https://nasional.tempo.co/read/1893144/amnesty...   \n",
       "2  https://news.detik.com/berita/d-7331666/jelang...   \n",
       "3  https://nasional.kompas.com/read/2024/02/13/21...   \n",
       "4  https://nasional.tempo.co/read/1861810/kemenag...   \n",
       "\n",
       "                                             Content                   tag1  \\\n",
       "0   JAKARTA, KOMPAS.com - Presiden Joko Widodo me...        Presiden Jokowi   \n",
       "1  TEMPO.CO, Jakarta - Amnesty International Indo...  Amnesty International   \n",
       "2  Stasiun kereta cepat Whoosh di Halim, Jakarta ...    kereta cepat whoosh   \n",
       "3   JAKARTA, KOMPAS.com - Komisi Pemilihan Umum (...                    KPU   \n",
       "4  TEMPO.CO, Jakarta - Kementerian Agama atau Kem...             Senam Haji   \n",
       "\n",
       "                               tag2                        tag3  \\\n",
       "0                            Jokowi  sidang tahunan MPR RI 2024   \n",
       "1  Amnesty International Indonesia        Kebebasan Berpendapat   \n",
       "2                     stasiun halim                long weekend   \n",
       "3                       pemilu 2024              Hasyim Asy'ari   \n",
       "4                           Kemenag                 Jemaah Haji   \n",
       "\n",
       "                                 tag4  \\\n",
       "0  Jokowi adat Betawi sidang mpr 2024   \n",
       "1                   Indeks Demokrasi    \n",
       "2                                 NaN   \n",
       "3                                 NaN   \n",
       "4                         Ibadah Haji   \n",
       "\n",
       "                                          tag5  source  \n",
       "0  Megawati tak hadiri sidang tahunan MPR 2024  kompas  \n",
       "1                                Revisi UU TNI   tempo  \n",
       "2                                          NaN   detik  \n",
       "3                                          NaN  kompas  \n",
       "4                                  Asrama Haji   tempo  "
      ]
     },
     "execution_count": 9,
     "metadata": {},
     "output_type": "execute_result"
    }
   ],
   "source": [
    "data2 = pd.read_csv(\"dataset/politik_merge.csv\")\n",
    "data2.head(5)"
   ]
  },
  {
   "cell_type": "code",
   "execution_count": 10,
   "metadata": {},
   "outputs": [],
   "source": [
    "df1 = pd.DataFrame(data)\n",
    "df2 = pd.DataFrame(data2)"
   ]
  },
  {
   "cell_type": "code",
   "execution_count": 11,
   "metadata": {},
   "outputs": [
    {
     "data": {
      "text/html": [
       "<div>\n",
       "<style scoped>\n",
       "    .dataframe tbody tr th:only-of-type {\n",
       "        vertical-align: middle;\n",
       "    }\n",
       "\n",
       "    .dataframe tbody tr th {\n",
       "        vertical-align: top;\n",
       "    }\n",
       "\n",
       "    .dataframe thead th {\n",
       "        text-align: right;\n",
       "    }\n",
       "</style>\n",
       "<table border=\"1\" class=\"dataframe\">\n",
       "  <thead>\n",
       "    <tr style=\"text-align: right;\">\n",
       "      <th></th>\n",
       "      <th>ID</th>\n",
       "      <th>label</th>\n",
       "      <th>tanggal</th>\n",
       "      <th>judul</th>\n",
       "      <th>narasi</th>\n",
       "      <th>nama file gambar</th>\n",
       "    </tr>\n",
       "  </thead>\n",
       "  <tbody>\n",
       "    <tr>\n",
       "      <th>0</th>\n",
       "      <td>71</td>\n",
       "      <td>1</td>\n",
       "      <td>17-Aug-20</td>\n",
       "      <td>Pemakaian Masker Menyebabkan Penyakit Legionna...</td>\n",
       "      <td>A caller to a radio talk show recently shared ...</td>\n",
       "      <td>71.jpg</td>\n",
       "    </tr>\n",
       "    <tr>\n",
       "      <th>1</th>\n",
       "      <td>461</td>\n",
       "      <td>1</td>\n",
       "      <td>17-Jul-20</td>\n",
       "      <td>Instruksi Gubernur Jateng tentang penilangan  ...</td>\n",
       "      <td>Yth.Seluruh Anggota Grup Sesuai Instruksi Gube...</td>\n",
       "      <td>461.png</td>\n",
       "    </tr>\n",
       "    <tr>\n",
       "      <th>2</th>\n",
       "      <td>495</td>\n",
       "      <td>1</td>\n",
       "      <td>13-Jul-20</td>\n",
       "      <td>Foto Jim Rohn: Jokowi adalah presiden terbaik ...</td>\n",
       "      <td>Jokowi adalah presiden terbaik dlm sejarah ban...</td>\n",
       "      <td>495.png</td>\n",
       "    </tr>\n",
       "    <tr>\n",
       "      <th>3</th>\n",
       "      <td>550</td>\n",
       "      <td>1</td>\n",
       "      <td>8-Jul-20</td>\n",
       "      <td>ini bukan politik, tapi kenyataan Pak Jokowi b...</td>\n",
       "      <td>Maaf Mas2 dan Mbak2, ini bukan politik, tapi k...</td>\n",
       "      <td>550.png</td>\n",
       "    </tr>\n",
       "    <tr>\n",
       "      <th>4</th>\n",
       "      <td>681</td>\n",
       "      <td>1</td>\n",
       "      <td>24-Jun-20</td>\n",
       "      <td>Foto Kadrun kalo lihat foto ini panas dingin</td>\n",
       "      <td>Kadrun kalo lihat foto ini panas dingin . .</td>\n",
       "      <td>681.jpg</td>\n",
       "    </tr>\n",
       "  </tbody>\n",
       "</table>\n",
       "</div>"
      ],
      "text/plain": [
       "    ID  label    tanggal                                              judul  \\\n",
       "0   71      1  17-Aug-20  Pemakaian Masker Menyebabkan Penyakit Legionna...   \n",
       "1  461      1  17-Jul-20  Instruksi Gubernur Jateng tentang penilangan  ...   \n",
       "2  495      1  13-Jul-20  Foto Jim Rohn: Jokowi adalah presiden terbaik ...   \n",
       "3  550      1   8-Jul-20  ini bukan politik, tapi kenyataan Pak Jokowi b...   \n",
       "4  681      1  24-Jun-20       Foto Kadrun kalo lihat foto ini panas dingin   \n",
       "\n",
       "                                              narasi nama file gambar  \n",
       "0  A caller to a radio talk show recently shared ...           71.jpg  \n",
       "1  Yth.Seluruh Anggota Grup Sesuai Instruksi Gube...          461.png  \n",
       "2  Jokowi adalah presiden terbaik dlm sejarah ban...          495.png  \n",
       "3  Maaf Mas2 dan Mbak2, ini bukan politik, tapi k...          550.png  \n",
       "4        Kadrun kalo lihat foto ini panas dingin . .          681.jpg  "
      ]
     },
     "execution_count": 11,
     "metadata": {},
     "output_type": "execute_result"
    }
   ],
   "source": [
    "df1.head(5)"
   ]
  },
  {
   "cell_type": "code",
   "execution_count": 12,
   "metadata": {},
   "outputs": [],
   "source": [
    "df1 = df1.drop([\"ID\",'tanggal','nama file gambar'], axis='columns')"
   ]
  },
  {
   "cell_type": "code",
   "execution_count": 13,
   "metadata": {},
   "outputs": [
    {
     "data": {
      "text/html": [
       "<div>\n",
       "<style scoped>\n",
       "    .dataframe tbody tr th:only-of-type {\n",
       "        vertical-align: middle;\n",
       "    }\n",
       "\n",
       "    .dataframe tbody tr th {\n",
       "        vertical-align: top;\n",
       "    }\n",
       "\n",
       "    .dataframe thead th {\n",
       "        text-align: right;\n",
       "    }\n",
       "</style>\n",
       "<table border=\"1\" class=\"dataframe\">\n",
       "  <thead>\n",
       "    <tr style=\"text-align: right;\">\n",
       "      <th></th>\n",
       "      <th>label</th>\n",
       "      <th>judul</th>\n",
       "      <th>narasi</th>\n",
       "    </tr>\n",
       "  </thead>\n",
       "  <tbody>\n",
       "    <tr>\n",
       "      <th>0</th>\n",
       "      <td>1</td>\n",
       "      <td>Pemakaian Masker Menyebabkan Penyakit Legionna...</td>\n",
       "      <td>A caller to a radio talk show recently shared ...</td>\n",
       "    </tr>\n",
       "    <tr>\n",
       "      <th>1</th>\n",
       "      <td>1</td>\n",
       "      <td>Instruksi Gubernur Jateng tentang penilangan  ...</td>\n",
       "      <td>Yth.Seluruh Anggota Grup Sesuai Instruksi Gube...</td>\n",
       "    </tr>\n",
       "    <tr>\n",
       "      <th>2</th>\n",
       "      <td>1</td>\n",
       "      <td>Foto Jim Rohn: Jokowi adalah presiden terbaik ...</td>\n",
       "      <td>Jokowi adalah presiden terbaik dlm sejarah ban...</td>\n",
       "    </tr>\n",
       "    <tr>\n",
       "      <th>3</th>\n",
       "      <td>1</td>\n",
       "      <td>ini bukan politik, tapi kenyataan Pak Jokowi b...</td>\n",
       "      <td>Maaf Mas2 dan Mbak2, ini bukan politik, tapi k...</td>\n",
       "    </tr>\n",
       "    <tr>\n",
       "      <th>4</th>\n",
       "      <td>1</td>\n",
       "      <td>Foto Kadrun kalo lihat foto ini panas dingin</td>\n",
       "      <td>Kadrun kalo lihat foto ini panas dingin . .</td>\n",
       "    </tr>\n",
       "  </tbody>\n",
       "</table>\n",
       "</div>"
      ],
      "text/plain": [
       "   label                                              judul  \\\n",
       "0      1  Pemakaian Masker Menyebabkan Penyakit Legionna...   \n",
       "1      1  Instruksi Gubernur Jateng tentang penilangan  ...   \n",
       "2      1  Foto Jim Rohn: Jokowi adalah presiden terbaik ...   \n",
       "3      1  ini bukan politik, tapi kenyataan Pak Jokowi b...   \n",
       "4      1       Foto Kadrun kalo lihat foto ini panas dingin   \n",
       "\n",
       "                                              narasi  \n",
       "0  A caller to a radio talk show recently shared ...  \n",
       "1  Yth.Seluruh Anggota Grup Sesuai Instruksi Gube...  \n",
       "2  Jokowi adalah presiden terbaik dlm sejarah ban...  \n",
       "3  Maaf Mas2 dan Mbak2, ini bukan politik, tapi k...  \n",
       "4        Kadrun kalo lihat foto ini panas dingin . .  "
      ]
     },
     "execution_count": 13,
     "metadata": {},
     "output_type": "execute_result"
    }
   ],
   "source": [
    "df1.head(5)"
   ]
  },
  {
   "cell_type": "code",
   "execution_count": 14,
   "metadata": {},
   "outputs": [],
   "source": [
    "#merging\n",
    "df1['berita'] = df1['judul']+df1['narasi']\n"
   ]
  },
  {
   "cell_type": "code",
   "execution_count": 15,
   "metadata": {},
   "outputs": [
    {
     "data": {
      "text/html": [
       "<div>\n",
       "<style scoped>\n",
       "    .dataframe tbody tr th:only-of-type {\n",
       "        vertical-align: middle;\n",
       "    }\n",
       "\n",
       "    .dataframe tbody tr th {\n",
       "        vertical-align: top;\n",
       "    }\n",
       "\n",
       "    .dataframe thead th {\n",
       "        text-align: right;\n",
       "    }\n",
       "</style>\n",
       "<table border=\"1\" class=\"dataframe\">\n",
       "  <thead>\n",
       "    <tr style=\"text-align: right;\">\n",
       "      <th></th>\n",
       "      <th>label</th>\n",
       "      <th>judul</th>\n",
       "      <th>narasi</th>\n",
       "      <th>berita</th>\n",
       "    </tr>\n",
       "  </thead>\n",
       "  <tbody>\n",
       "    <tr>\n",
       "      <th>0</th>\n",
       "      <td>1</td>\n",
       "      <td>Pemakaian Masker Menyebabkan Penyakit Legionna...</td>\n",
       "      <td>A caller to a radio talk show recently shared ...</td>\n",
       "      <td>Pemakaian Masker Menyebabkan Penyakit Legionna...</td>\n",
       "    </tr>\n",
       "    <tr>\n",
       "      <th>1</th>\n",
       "      <td>1</td>\n",
       "      <td>Instruksi Gubernur Jateng tentang penilangan  ...</td>\n",
       "      <td>Yth.Seluruh Anggota Grup Sesuai Instruksi Gube...</td>\n",
       "      <td>Instruksi Gubernur Jateng tentang penilangan  ...</td>\n",
       "    </tr>\n",
       "    <tr>\n",
       "      <th>2</th>\n",
       "      <td>1</td>\n",
       "      <td>Foto Jim Rohn: Jokowi adalah presiden terbaik ...</td>\n",
       "      <td>Jokowi adalah presiden terbaik dlm sejarah ban...</td>\n",
       "      <td>Foto Jim Rohn: Jokowi adalah presiden terbaik ...</td>\n",
       "    </tr>\n",
       "    <tr>\n",
       "      <th>3</th>\n",
       "      <td>1</td>\n",
       "      <td>ini bukan politik, tapi kenyataan Pak Jokowi b...</td>\n",
       "      <td>Maaf Mas2 dan Mbak2, ini bukan politik, tapi k...</td>\n",
       "      <td>ini bukan politik, tapi kenyataan Pak Jokowi b...</td>\n",
       "    </tr>\n",
       "    <tr>\n",
       "      <th>4</th>\n",
       "      <td>1</td>\n",
       "      <td>Foto Kadrun kalo lihat foto ini panas dingin</td>\n",
       "      <td>Kadrun kalo lihat foto ini panas dingin . .</td>\n",
       "      <td>Foto Kadrun kalo lihat foto ini panas dinginKa...</td>\n",
       "    </tr>\n",
       "  </tbody>\n",
       "</table>\n",
       "</div>"
      ],
      "text/plain": [
       "   label                                              judul  \\\n",
       "0      1  Pemakaian Masker Menyebabkan Penyakit Legionna...   \n",
       "1      1  Instruksi Gubernur Jateng tentang penilangan  ...   \n",
       "2      1  Foto Jim Rohn: Jokowi adalah presiden terbaik ...   \n",
       "3      1  ini bukan politik, tapi kenyataan Pak Jokowi b...   \n",
       "4      1       Foto Kadrun kalo lihat foto ini panas dingin   \n",
       "\n",
       "                                              narasi  \\\n",
       "0  A caller to a radio talk show recently shared ...   \n",
       "1  Yth.Seluruh Anggota Grup Sesuai Instruksi Gube...   \n",
       "2  Jokowi adalah presiden terbaik dlm sejarah ban...   \n",
       "3  Maaf Mas2 dan Mbak2, ini bukan politik, tapi k...   \n",
       "4        Kadrun kalo lihat foto ini panas dingin . .   \n",
       "\n",
       "                                              berita  \n",
       "0  Pemakaian Masker Menyebabkan Penyakit Legionna...  \n",
       "1  Instruksi Gubernur Jateng tentang penilangan  ...  \n",
       "2  Foto Jim Rohn: Jokowi adalah presiden terbaik ...  \n",
       "3  ini bukan politik, tapi kenyataan Pak Jokowi b...  \n",
       "4  Foto Kadrun kalo lihat foto ini panas dinginKa...  "
      ]
     },
     "execution_count": 15,
     "metadata": {},
     "output_type": "execute_result"
    }
   ],
   "source": [
    "df1.head(5)"
   ]
  },
  {
   "cell_type": "code",
   "execution_count": 16,
   "metadata": {},
   "outputs": [
    {
     "data": {
      "text/html": [
       "<div>\n",
       "<style scoped>\n",
       "    .dataframe tbody tr th:only-of-type {\n",
       "        vertical-align: middle;\n",
       "    }\n",
       "\n",
       "    .dataframe tbody tr th {\n",
       "        vertical-align: top;\n",
       "    }\n",
       "\n",
       "    .dataframe thead th {\n",
       "        text-align: right;\n",
       "    }\n",
       "</style>\n",
       "<table border=\"1\" class=\"dataframe\">\n",
       "  <thead>\n",
       "    <tr style=\"text-align: right;\">\n",
       "      <th></th>\n",
       "      <th>label</th>\n",
       "      <th>berita</th>\n",
       "    </tr>\n",
       "  </thead>\n",
       "  <tbody>\n",
       "    <tr>\n",
       "      <th>0</th>\n",
       "      <td>1</td>\n",
       "      <td>Pemakaian Masker Menyebabkan Penyakit Legionna...</td>\n",
       "    </tr>\n",
       "    <tr>\n",
       "      <th>1</th>\n",
       "      <td>1</td>\n",
       "      <td>Instruksi Gubernur Jateng tentang penilangan  ...</td>\n",
       "    </tr>\n",
       "    <tr>\n",
       "      <th>2</th>\n",
       "      <td>1</td>\n",
       "      <td>Foto Jim Rohn: Jokowi adalah presiden terbaik ...</td>\n",
       "    </tr>\n",
       "    <tr>\n",
       "      <th>3</th>\n",
       "      <td>1</td>\n",
       "      <td>ini bukan politik, tapi kenyataan Pak Jokowi b...</td>\n",
       "    </tr>\n",
       "    <tr>\n",
       "      <th>4</th>\n",
       "      <td>1</td>\n",
       "      <td>Foto Kadrun kalo lihat foto ini panas dinginKa...</td>\n",
       "    </tr>\n",
       "    <tr>\n",
       "      <th>...</th>\n",
       "      <td>...</td>\n",
       "      <td>...</td>\n",
       "    </tr>\n",
       "    <tr>\n",
       "      <th>4226</th>\n",
       "      <td>1</td>\n",
       "      <td>: KPK Dilarang Membawa Brimob Bersenjata Masuk...</td>\n",
       "    </tr>\n",
       "    <tr>\n",
       "      <th>4227</th>\n",
       "      <td>1</td>\n",
       "      <td>Foto pejabat keuangan dibawah palu aritJangan ...</td>\n",
       "    </tr>\n",
       "    <tr>\n",
       "      <th>4228</th>\n",
       "      <td>1</td>\n",
       "      <td>Gambar Denny Siregar Musuh Warga Tasikmalaya d...</td>\n",
       "    </tr>\n",
       "    <tr>\n",
       "      <th>4229</th>\n",
       "      <td>1</td>\n",
       "      <td>Kaesang: Bapak Saya dengan Kesederhaan Bisa Ni...</td>\n",
       "    </tr>\n",
       "    <tr>\n",
       "      <th>4230</th>\n",
       "      <td>1</td>\n",
       "      <td>Laser dari termometer gun akan merusak struktu...</td>\n",
       "    </tr>\n",
       "  </tbody>\n",
       "</table>\n",
       "<p>4231 rows × 2 columns</p>\n",
       "</div>"
      ],
      "text/plain": [
       "      label                                             berita\n",
       "0         1  Pemakaian Masker Menyebabkan Penyakit Legionna...\n",
       "1         1  Instruksi Gubernur Jateng tentang penilangan  ...\n",
       "2         1  Foto Jim Rohn: Jokowi adalah presiden terbaik ...\n",
       "3         1  ini bukan politik, tapi kenyataan Pak Jokowi b...\n",
       "4         1  Foto Kadrun kalo lihat foto ini panas dinginKa...\n",
       "...     ...                                                ...\n",
       "4226      1  : KPK Dilarang Membawa Brimob Bersenjata Masuk...\n",
       "4227      1  Foto pejabat keuangan dibawah palu aritJangan ...\n",
       "4228      1  Gambar Denny Siregar Musuh Warga Tasikmalaya d...\n",
       "4229      1  Kaesang: Bapak Saya dengan Kesederhaan Bisa Ni...\n",
       "4230      1  Laser dari termometer gun akan merusak struktu...\n",
       "\n",
       "[4231 rows x 2 columns]"
      ]
     },
     "execution_count": 16,
     "metadata": {},
     "output_type": "execute_result"
    }
   ],
   "source": [
    "df1.drop(['judul','narasi'], axis='columns')"
   ]
  },
  {
   "cell_type": "code",
   "execution_count": 17,
   "metadata": {},
   "outputs": [
    {
     "data": {
      "text/plain": [
       "label\n",
       "1    3465\n",
       "0     766\n",
       "Name: count, dtype: int64"
      ]
     },
     "execution_count": 17,
     "metadata": {},
     "output_type": "execute_result"
    }
   ],
   "source": [
    "df1['label'].value_counts()"
   ]
  },
  {
   "cell_type": "code",
   "execution_count": 18,
   "metadata": {},
   "outputs": [],
   "source": [
    "df2 = df2.drop(['Waktu','Link','tag1','tag2','tag3','tag4','tag5','source'],axis='columns')"
   ]
  },
  {
   "cell_type": "code",
   "execution_count": 19,
   "metadata": {},
   "outputs": [
    {
     "data": {
      "text/html": [
       "<div>\n",
       "<style scoped>\n",
       "    .dataframe tbody tr th:only-of-type {\n",
       "        vertical-align: middle;\n",
       "    }\n",
       "\n",
       "    .dataframe tbody tr th {\n",
       "        vertical-align: top;\n",
       "    }\n",
       "\n",
       "    .dataframe thead th {\n",
       "        text-align: right;\n",
       "    }\n",
       "</style>\n",
       "<table border=\"1\" class=\"dataframe\">\n",
       "  <thead>\n",
       "    <tr style=\"text-align: right;\">\n",
       "      <th></th>\n",
       "      <th>Judul</th>\n",
       "      <th>Content</th>\n",
       "    </tr>\n",
       "  </thead>\n",
       "  <tbody>\n",
       "    <tr>\n",
       "      <th>0</th>\n",
       "      <td>Jokowi Kenakan Pakaian Adat Betawi di Sidang T...</td>\n",
       "      <td>JAKARTA, KOMPAS.com - Presiden Joko Widodo me...</td>\n",
       "    </tr>\n",
       "    <tr>\n",
       "      <th>1</th>\n",
       "      <td>Amnesty International Beberkan 6 Indikator Kri...</td>\n",
       "      <td>TEMPO.CO, Jakarta - Amnesty International Indo...</td>\n",
       "    </tr>\n",
       "    <tr>\n",
       "      <th>2</th>\n",
       "      <td>Jelang Long Weekend, Stasiun Kereta Cepat Hali...</td>\n",
       "      <td>Stasiun kereta cepat Whoosh di Halim, Jakarta ...</td>\n",
       "    </tr>\n",
       "    <tr>\n",
       "      <th>3</th>\n",
       "      <td>KPU Tegaskan Pemilih Tak Terdaftar di DPT Bisa...</td>\n",
       "      <td>JAKARTA, KOMPAS.com - Komisi Pemilihan Umum (...</td>\n",
       "    </tr>\n",
       "    <tr>\n",
       "      <th>4</th>\n",
       "      <td>Kemenag Luncurkan Gerakan Senam Haji Jaga Keta...</td>\n",
       "      <td>TEMPO.CO, Jakarta - Kementerian Agama atau Kem...</td>\n",
       "    </tr>\n",
       "  </tbody>\n",
       "</table>\n",
       "</div>"
      ],
      "text/plain": [
       "                                               Judul  \\\n",
       "0  Jokowi Kenakan Pakaian Adat Betawi di Sidang T...   \n",
       "1  Amnesty International Beberkan 6 Indikator Kri...   \n",
       "2  Jelang Long Weekend, Stasiun Kereta Cepat Hali...   \n",
       "3  KPU Tegaskan Pemilih Tak Terdaftar di DPT Bisa...   \n",
       "4  Kemenag Luncurkan Gerakan Senam Haji Jaga Keta...   \n",
       "\n",
       "                                             Content  \n",
       "0   JAKARTA, KOMPAS.com - Presiden Joko Widodo me...  \n",
       "1  TEMPO.CO, Jakarta - Amnesty International Indo...  \n",
       "2  Stasiun kereta cepat Whoosh di Halim, Jakarta ...  \n",
       "3   JAKARTA, KOMPAS.com - Komisi Pemilihan Umum (...  \n",
       "4  TEMPO.CO, Jakarta - Kementerian Agama atau Kem...  "
      ]
     },
     "execution_count": 19,
     "metadata": {},
     "output_type": "execute_result"
    }
   ],
   "source": [
    "df2.head(5)"
   ]
  },
  {
   "cell_type": "code",
   "execution_count": 20,
   "metadata": {},
   "outputs": [
    {
     "data": {
      "text/html": [
       "<div>\n",
       "<style scoped>\n",
       "    .dataframe tbody tr th:only-of-type {\n",
       "        vertical-align: middle;\n",
       "    }\n",
       "\n",
       "    .dataframe tbody tr th {\n",
       "        vertical-align: top;\n",
       "    }\n",
       "\n",
       "    .dataframe thead th {\n",
       "        text-align: right;\n",
       "    }\n",
       "</style>\n",
       "<table border=\"1\" class=\"dataframe\">\n",
       "  <thead>\n",
       "    <tr style=\"text-align: right;\">\n",
       "      <th></th>\n",
       "      <th>Judul</th>\n",
       "      <th>Content</th>\n",
       "      <th>berita</th>\n",
       "    </tr>\n",
       "  </thead>\n",
       "  <tbody>\n",
       "    <tr>\n",
       "      <th>0</th>\n",
       "      <td>Jokowi Kenakan Pakaian Adat Betawi di Sidang T...</td>\n",
       "      <td>JAKARTA, KOMPAS.com - Presiden Joko Widodo me...</td>\n",
       "      <td>Jokowi Kenakan Pakaian Adat Betawi di Sidang T...</td>\n",
       "    </tr>\n",
       "    <tr>\n",
       "      <th>1</th>\n",
       "      <td>Amnesty International Beberkan 6 Indikator Kri...</td>\n",
       "      <td>TEMPO.CO, Jakarta - Amnesty International Indo...</td>\n",
       "      <td>Amnesty International Beberkan 6 Indikator Kri...</td>\n",
       "    </tr>\n",
       "    <tr>\n",
       "      <th>2</th>\n",
       "      <td>Jelang Long Weekend, Stasiun Kereta Cepat Hali...</td>\n",
       "      <td>Stasiun kereta cepat Whoosh di Halim, Jakarta ...</td>\n",
       "      <td>Jelang Long Weekend, Stasiun Kereta Cepat Hali...</td>\n",
       "    </tr>\n",
       "    <tr>\n",
       "      <th>3</th>\n",
       "      <td>KPU Tegaskan Pemilih Tak Terdaftar di DPT Bisa...</td>\n",
       "      <td>JAKARTA, KOMPAS.com - Komisi Pemilihan Umum (...</td>\n",
       "      <td>KPU Tegaskan Pemilih Tak Terdaftar di DPT Bisa...</td>\n",
       "    </tr>\n",
       "    <tr>\n",
       "      <th>4</th>\n",
       "      <td>Kemenag Luncurkan Gerakan Senam Haji Jaga Keta...</td>\n",
       "      <td>TEMPO.CO, Jakarta - Kementerian Agama atau Kem...</td>\n",
       "      <td>Kemenag Luncurkan Gerakan Senam Haji Jaga Keta...</td>\n",
       "    </tr>\n",
       "  </tbody>\n",
       "</table>\n",
       "</div>"
      ],
      "text/plain": [
       "                                               Judul  \\\n",
       "0  Jokowi Kenakan Pakaian Adat Betawi di Sidang T...   \n",
       "1  Amnesty International Beberkan 6 Indikator Kri...   \n",
       "2  Jelang Long Weekend, Stasiun Kereta Cepat Hali...   \n",
       "3  KPU Tegaskan Pemilih Tak Terdaftar di DPT Bisa...   \n",
       "4  Kemenag Luncurkan Gerakan Senam Haji Jaga Keta...   \n",
       "\n",
       "                                             Content  \\\n",
       "0   JAKARTA, KOMPAS.com - Presiden Joko Widodo me...   \n",
       "1  TEMPO.CO, Jakarta - Amnesty International Indo...   \n",
       "2  Stasiun kereta cepat Whoosh di Halim, Jakarta ...   \n",
       "3   JAKARTA, KOMPAS.com - Komisi Pemilihan Umum (...   \n",
       "4  TEMPO.CO, Jakarta - Kementerian Agama atau Kem...   \n",
       "\n",
       "                                              berita  \n",
       "0  Jokowi Kenakan Pakaian Adat Betawi di Sidang T...  \n",
       "1  Amnesty International Beberkan 6 Indikator Kri...  \n",
       "2  Jelang Long Weekend, Stasiun Kereta Cepat Hali...  \n",
       "3  KPU Tegaskan Pemilih Tak Terdaftar di DPT Bisa...  \n",
       "4  Kemenag Luncurkan Gerakan Senam Haji Jaga Keta...  "
      ]
     },
     "execution_count": 20,
     "metadata": {},
     "output_type": "execute_result"
    }
   ],
   "source": [
    "df2['berita'] = df2['Judul']+df2['Content']\n",
    "df2.head(5)"
   ]
  },
  {
   "cell_type": "code",
   "execution_count": 21,
   "metadata": {},
   "outputs": [],
   "source": [
    "df2 = df2[:4000]"
   ]
  },
  {
   "cell_type": "code",
   "execution_count": 22,
   "metadata": {},
   "outputs": [
    {
     "data": {
      "text/html": [
       "<div>\n",
       "<style scoped>\n",
       "    .dataframe tbody tr th:only-of-type {\n",
       "        vertical-align: middle;\n",
       "    }\n",
       "\n",
       "    .dataframe tbody tr th {\n",
       "        vertical-align: top;\n",
       "    }\n",
       "\n",
       "    .dataframe thead th {\n",
       "        text-align: right;\n",
       "    }\n",
       "</style>\n",
       "<table border=\"1\" class=\"dataframe\">\n",
       "  <thead>\n",
       "    <tr style=\"text-align: right;\">\n",
       "      <th></th>\n",
       "      <th>Judul</th>\n",
       "      <th>Content</th>\n",
       "      <th>berita</th>\n",
       "    </tr>\n",
       "  </thead>\n",
       "  <tbody>\n",
       "    <tr>\n",
       "      <th>3995</th>\n",
       "      <td>Khofifah Usul Evakuasi Anak Palestina ke Jatim...</td>\n",
       "      <td>Menteri Pertahanan Prabowo Subianto menceritak...</td>\n",
       "      <td>Khofifah Usul Evakuasi Anak Palestina ke Jatim...</td>\n",
       "    </tr>\n",
       "    <tr>\n",
       "      <th>3996</th>\n",
       "      <td>Ketum PBNU Singgung Dirinya dan Gus Dur juga P...</td>\n",
       "      <td>TEMPO.CO, Jakarta - Ketua Umum Pengurus Besar ...</td>\n",
       "      <td>Ketum PBNU Singgung Dirinya dan Gus Dur juga P...</td>\n",
       "    </tr>\n",
       "    <tr>\n",
       "      <th>3997</th>\n",
       "      <td>Ketika Nama Kaesang Disebut-sebut sebagai Calo...</td>\n",
       "      <td>TEMPO.CO, Jakarta - Nama Ketua Umum Partai Sol...</td>\n",
       "      <td>Ketika Nama Kaesang Disebut-sebut sebagai Calo...</td>\n",
       "    </tr>\n",
       "    <tr>\n",
       "      <th>3998</th>\n",
       "      <td>Suami Kimberly Absen Pemeriksaan Polisi, Minta...</td>\n",
       "      <td>Polisi mengagendakan pemeriksaan terhadap Edwa...</td>\n",
       "      <td>Suami Kimberly Absen Pemeriksaan Polisi, Minta...</td>\n",
       "    </tr>\n",
       "    <tr>\n",
       "      <th>3999</th>\n",
       "      <td>Tidak Ada Kompromi, Orangtua Korban Enggan Dam...</td>\n",
       "      <td>JAKARTA, KOMPAS.com - Irfan Maulana, kuasa hu...</td>\n",
       "      <td>Tidak Ada Kompromi, Orangtua Korban Enggan Dam...</td>\n",
       "    </tr>\n",
       "  </tbody>\n",
       "</table>\n",
       "</div>"
      ],
      "text/plain": [
       "                                                  Judul  \\\n",
       "3995  Khofifah Usul Evakuasi Anak Palestina ke Jatim...   \n",
       "3996  Ketum PBNU Singgung Dirinya dan Gus Dur juga P...   \n",
       "3997  Ketika Nama Kaesang Disebut-sebut sebagai Calo...   \n",
       "3998  Suami Kimberly Absen Pemeriksaan Polisi, Minta...   \n",
       "3999  Tidak Ada Kompromi, Orangtua Korban Enggan Dam...   \n",
       "\n",
       "                                                Content  \\\n",
       "3995  Menteri Pertahanan Prabowo Subianto menceritak...   \n",
       "3996  TEMPO.CO, Jakarta - Ketua Umum Pengurus Besar ...   \n",
       "3997  TEMPO.CO, Jakarta - Nama Ketua Umum Partai Sol...   \n",
       "3998  Polisi mengagendakan pemeriksaan terhadap Edwa...   \n",
       "3999   JAKARTA, KOMPAS.com - Irfan Maulana, kuasa hu...   \n",
       "\n",
       "                                                 berita  \n",
       "3995  Khofifah Usul Evakuasi Anak Palestina ke Jatim...  \n",
       "3996  Ketum PBNU Singgung Dirinya dan Gus Dur juga P...  \n",
       "3997  Ketika Nama Kaesang Disebut-sebut sebagai Calo...  \n",
       "3998  Suami Kimberly Absen Pemeriksaan Polisi, Minta...  \n",
       "3999  Tidak Ada Kompromi, Orangtua Korban Enggan Dam...  "
      ]
     },
     "execution_count": 22,
     "metadata": {},
     "output_type": "execute_result"
    }
   ],
   "source": [
    "df2.tail(5)"
   ]
  },
  {
   "cell_type": "code",
   "execution_count": 23,
   "metadata": {},
   "outputs": [],
   "source": [
    "df2['label'] = 0"
   ]
  },
  {
   "cell_type": "code",
   "execution_count": 24,
   "metadata": {},
   "outputs": [
    {
     "data": {
      "text/html": [
       "<div>\n",
       "<style scoped>\n",
       "    .dataframe tbody tr th:only-of-type {\n",
       "        vertical-align: middle;\n",
       "    }\n",
       "\n",
       "    .dataframe tbody tr th {\n",
       "        vertical-align: top;\n",
       "    }\n",
       "\n",
       "    .dataframe thead th {\n",
       "        text-align: right;\n",
       "    }\n",
       "</style>\n",
       "<table border=\"1\" class=\"dataframe\">\n",
       "  <thead>\n",
       "    <tr style=\"text-align: right;\">\n",
       "      <th></th>\n",
       "      <th>berita</th>\n",
       "      <th>label</th>\n",
       "    </tr>\n",
       "  </thead>\n",
       "  <tbody>\n",
       "    <tr>\n",
       "      <th>0</th>\n",
       "      <td>Jokowi Kenakan Pakaian Adat Betawi di Sidang T...</td>\n",
       "      <td>0</td>\n",
       "    </tr>\n",
       "    <tr>\n",
       "      <th>1</th>\n",
       "      <td>Amnesty International Beberkan 6 Indikator Kri...</td>\n",
       "      <td>0</td>\n",
       "    </tr>\n",
       "    <tr>\n",
       "      <th>2</th>\n",
       "      <td>Jelang Long Weekend, Stasiun Kereta Cepat Hali...</td>\n",
       "      <td>0</td>\n",
       "    </tr>\n",
       "    <tr>\n",
       "      <th>3</th>\n",
       "      <td>KPU Tegaskan Pemilih Tak Terdaftar di DPT Bisa...</td>\n",
       "      <td>0</td>\n",
       "    </tr>\n",
       "    <tr>\n",
       "      <th>4</th>\n",
       "      <td>Kemenag Luncurkan Gerakan Senam Haji Jaga Keta...</td>\n",
       "      <td>0</td>\n",
       "    </tr>\n",
       "    <tr>\n",
       "      <th>...</th>\n",
       "      <td>...</td>\n",
       "      <td>...</td>\n",
       "    </tr>\n",
       "    <tr>\n",
       "      <th>3995</th>\n",
       "      <td>Khofifah Usul Evakuasi Anak Palestina ke Jatim...</td>\n",
       "      <td>0</td>\n",
       "    </tr>\n",
       "    <tr>\n",
       "      <th>3996</th>\n",
       "      <td>Ketum PBNU Singgung Dirinya dan Gus Dur juga P...</td>\n",
       "      <td>0</td>\n",
       "    </tr>\n",
       "    <tr>\n",
       "      <th>3997</th>\n",
       "      <td>Ketika Nama Kaesang Disebut-sebut sebagai Calo...</td>\n",
       "      <td>0</td>\n",
       "    </tr>\n",
       "    <tr>\n",
       "      <th>3998</th>\n",
       "      <td>Suami Kimberly Absen Pemeriksaan Polisi, Minta...</td>\n",
       "      <td>0</td>\n",
       "    </tr>\n",
       "    <tr>\n",
       "      <th>3999</th>\n",
       "      <td>Tidak Ada Kompromi, Orangtua Korban Enggan Dam...</td>\n",
       "      <td>0</td>\n",
       "    </tr>\n",
       "  </tbody>\n",
       "</table>\n",
       "<p>4000 rows × 2 columns</p>\n",
       "</div>"
      ],
      "text/plain": [
       "                                                 berita  label\n",
       "0     Jokowi Kenakan Pakaian Adat Betawi di Sidang T...      0\n",
       "1     Amnesty International Beberkan 6 Indikator Kri...      0\n",
       "2     Jelang Long Weekend, Stasiun Kereta Cepat Hali...      0\n",
       "3     KPU Tegaskan Pemilih Tak Terdaftar di DPT Bisa...      0\n",
       "4     Kemenag Luncurkan Gerakan Senam Haji Jaga Keta...      0\n",
       "...                                                 ...    ...\n",
       "3995  Khofifah Usul Evakuasi Anak Palestina ke Jatim...      0\n",
       "3996  Ketum PBNU Singgung Dirinya dan Gus Dur juga P...      0\n",
       "3997  Ketika Nama Kaesang Disebut-sebut sebagai Calo...      0\n",
       "3998  Suami Kimberly Absen Pemeriksaan Polisi, Minta...      0\n",
       "3999  Tidak Ada Kompromi, Orangtua Korban Enggan Dam...      0\n",
       "\n",
       "[4000 rows x 2 columns]"
      ]
     },
     "execution_count": 24,
     "metadata": {},
     "output_type": "execute_result"
    }
   ],
   "source": [
    "df2.drop(['Judul','Content'], axis='columns')"
   ]
  },
  {
   "cell_type": "code",
   "execution_count": 25,
   "metadata": {},
   "outputs": [],
   "source": [
    "frames = [df1,df2]"
   ]
  },
  {
   "cell_type": "code",
   "execution_count": 26,
   "metadata": {},
   "outputs": [
    {
     "data": {
      "text/plain": [
       "label\n",
       "0    4766\n",
       "1    3465\n",
       "Name: count, dtype: int64"
      ]
     },
     "execution_count": 26,
     "metadata": {},
     "output_type": "execute_result"
    }
   ],
   "source": [
    "df = pd.concat(frames)\n",
    "df['label'].value_counts()"
   ]
  },
  {
   "cell_type": "code",
   "execution_count": 27,
   "metadata": {
    "id": "R4FGhapy4wP9"
   },
   "outputs": [],
   "source": [
    "feature = df['berita'].astype(str)\n",
    "label = df['label'].astype(int)"
   ]
  },
  {
   "cell_type": "code",
   "execution_count": 28,
   "metadata": {
    "colab": {
     "base_uri": "https://localhost:8080/"
    },
    "id": "TZEqaFZ85LBs",
    "outputId": "3cdac7e2-9b81-4d30-b951-13bb9b7e3ead"
   },
   "outputs": [
    {
     "data": {
      "text/plain": [
       "0       Pemakaian Masker Menyebabkan Penyakit Legionna...\n",
       "1       Instruksi Gubernur Jateng tentang penilangan  ...\n",
       "2       Foto Jim Rohn: Jokowi adalah presiden terbaik ...\n",
       "3       ini bukan politik, tapi kenyataan Pak Jokowi b...\n",
       "4       Foto Kadrun kalo lihat foto ini panas dinginKa...\n",
       "                              ...                        \n",
       "3995    Khofifah Usul Evakuasi Anak Palestina ke Jatim...\n",
       "3996    Ketum PBNU Singgung Dirinya dan Gus Dur juga P...\n",
       "3997    Ketika Nama Kaesang Disebut-sebut sebagai Calo...\n",
       "3998    Suami Kimberly Absen Pemeriksaan Polisi, Minta...\n",
       "3999    Tidak Ada Kompromi, Orangtua Korban Enggan Dam...\n",
       "Name: berita, Length: 8231, dtype: object"
      ]
     },
     "execution_count": 28,
     "metadata": {},
     "output_type": "execute_result"
    }
   ],
   "source": [
    "feature"
   ]
  },
  {
   "cell_type": "code",
   "execution_count": 29,
   "metadata": {
    "colab": {
     "base_uri": "https://localhost:8080/"
    },
    "id": "d8mE-55v5Mbe",
    "outputId": "9f325d83-9779-43cd-cd2f-7b2e8cce4b68"
   },
   "outputs": [
    {
     "data": {
      "text/plain": [
       "0       1\n",
       "1       1\n",
       "2       1\n",
       "3       1\n",
       "4       1\n",
       "       ..\n",
       "3995    0\n",
       "3996    0\n",
       "3997    0\n",
       "3998    0\n",
       "3999    0\n",
       "Name: label, Length: 8231, dtype: int32"
      ]
     },
     "execution_count": 29,
     "metadata": {},
     "output_type": "execute_result"
    }
   ],
   "source": [
    "label"
   ]
  },
  {
   "cell_type": "code",
   "execution_count": 30,
   "metadata": {},
   "outputs": [
    {
     "data": {
      "text/plain": [
       "['pakai masker sebab sakit legionnairesa caller to a radio talk show recently shared that his wife was hospitalized n told she had covid n only a couple of days left to live a doctor friend suggested she be tested for legionnaires disease because she wore the same mask every day all day long turns out it was legionnaires disease from the moisture n bacteria in her mask she was given antibiotics n within two days was better what if these spikes in covid are really something else due to mask induced infections',\n",
       " 'instruksi gubernur jateng tentang tilang bagi yg tidak masker di muka umum rp 150 000 guna e-tilang via apps pikobaryth seluruh anggota grup sesuai instruksi gubernur jawa tengah hasil rapat tim gugus tugas covid 19 jateng sbb',\n",
       " 'foto jim rohn jokowi adalah presiden baik dlm sejarah bangsa indonesiajokowi adalah presiden baik dlm sejarah bangsa indonesia jim rohn motivator baik dunia',\n",
       " 'ini bukan politik tapi nyata pak jokowi hasil pulang 11 000 triliun uang negara dari swiss maaf mas2 dan mbak2 ini bukan politik tapi nyata pak jokowi hasil pulang 11 000 triliun uang negara dari swiss 11ribu triliun siap di bawa balik ke indonesia ruu treaty on mutual legal assistance in criminal matters between the republic of indonesia and the swiss confederation mla ri-swiss resmi sah dpr ri tanggal 3 juli 2020 dengan demikian proses konstitusi tarik dana di swiss sudah selesai juang yang panjang hadap ex koruptor yang bersenggama dengan agama terimakasih para kadrun yang terus nyinyirian kapan uang 11 000 triliun kembali ke indonesia tanpa anda nyinyir rasa sulit ruu itu bisa sah oleh dpr milik 84 rekening gendut siap siap gigit jari mungkin tekan ke pak jokowi makin kencang ini baca berita',\n",
       " 'foto kadrun kalo lihat foto ini panas dinginkadrun kalo lihat foto ini panas dingin']"
      ]
     },
     "execution_count": 30,
     "metadata": {},
     "output_type": "execute_result"
    }
   ],
   "source": [
    "# melakukan stemming pada setiap baris\n",
    "lower = [stemmer.stem(row.lower()) for row in feature]\n",
    "\n",
    "# Hasil stem dan lower\n",
    "lower[:5]"
   ]
  },
  {
   "cell_type": "code",
   "execution_count": 31,
   "metadata": {},
   "outputs": [
    {
     "data": {
      "text/plain": [
       "[['pakai',\n",
       "  'masker',\n",
       "  'sebab',\n",
       "  'sakit',\n",
       "  'legionnairesa',\n",
       "  'caller',\n",
       "  'to',\n",
       "  'a',\n",
       "  'radio',\n",
       "  'talk',\n",
       "  'show',\n",
       "  'recently',\n",
       "  'shared',\n",
       "  'that',\n",
       "  'his',\n",
       "  'wife',\n",
       "  'was',\n",
       "  'hospitalized',\n",
       "  'n',\n",
       "  'told',\n",
       "  'she',\n",
       "  'had',\n",
       "  'covid',\n",
       "  'n',\n",
       "  'only',\n",
       "  'a',\n",
       "  'couple',\n",
       "  'of',\n",
       "  'days',\n",
       "  'left',\n",
       "  'to',\n",
       "  'live',\n",
       "  'a',\n",
       "  'doctor',\n",
       "  'friend',\n",
       "  'suggested',\n",
       "  'she',\n",
       "  'be',\n",
       "  'tested',\n",
       "  'for',\n",
       "  'legionnaires',\n",
       "  'disease',\n",
       "  'because',\n",
       "  'she',\n",
       "  'wore',\n",
       "  'the',\n",
       "  'same',\n",
       "  'mask',\n",
       "  'every',\n",
       "  'day',\n",
       "  'all',\n",
       "  'day',\n",
       "  'long',\n",
       "  'turns',\n",
       "  'out',\n",
       "  'it',\n",
       "  'was',\n",
       "  'legionnaires',\n",
       "  'disease',\n",
       "  'from',\n",
       "  'the',\n",
       "  'moisture',\n",
       "  'n',\n",
       "  'bacteria',\n",
       "  'in',\n",
       "  'her',\n",
       "  'mask',\n",
       "  'she',\n",
       "  'was',\n",
       "  'given',\n",
       "  'antibiotics',\n",
       "  'n',\n",
       "  'within',\n",
       "  'two',\n",
       "  'days',\n",
       "  'was',\n",
       "  'better',\n",
       "  'what',\n",
       "  'if',\n",
       "  'these',\n",
       "  'spikes',\n",
       "  'in',\n",
       "  'covid',\n",
       "  'are',\n",
       "  'really',\n",
       "  'something',\n",
       "  'else',\n",
       "  'due',\n",
       "  'to',\n",
       "  'mask',\n",
       "  'induced',\n",
       "  'infections'],\n",
       " ['instruksi',\n",
       "  'gubernur',\n",
       "  'jateng',\n",
       "  'tentang',\n",
       "  'tilang',\n",
       "  'bagi',\n",
       "  'yg',\n",
       "  'tidak',\n",
       "  'masker',\n",
       "  'di',\n",
       "  'muka',\n",
       "  'umum',\n",
       "  'rp',\n",
       "  '150',\n",
       "  '000',\n",
       "  'guna',\n",
       "  'e-tilang',\n",
       "  'via',\n",
       "  'apps',\n",
       "  'pikobaryth',\n",
       "  'seluruh',\n",
       "  'anggota',\n",
       "  'grup',\n",
       "  'sesuai',\n",
       "  'instruksi',\n",
       "  'gubernur',\n",
       "  'jawa',\n",
       "  'tengah',\n",
       "  'hasil',\n",
       "  'rapat',\n",
       "  'tim',\n",
       "  'gugus',\n",
       "  'tugas',\n",
       "  'covid',\n",
       "  '19',\n",
       "  'jateng',\n",
       "  'sbb'],\n",
       " ['foto',\n",
       "  'jim',\n",
       "  'rohn',\n",
       "  'jokowi',\n",
       "  'adalah',\n",
       "  'presiden',\n",
       "  'baik',\n",
       "  'dlm',\n",
       "  'sejarah',\n",
       "  'bangsa',\n",
       "  'indonesiajokowi',\n",
       "  'adalah',\n",
       "  'presiden',\n",
       "  'baik',\n",
       "  'dlm',\n",
       "  'sejarah',\n",
       "  'bangsa',\n",
       "  'indonesia',\n",
       "  'jim',\n",
       "  'rohn',\n",
       "  'motivator',\n",
       "  'baik',\n",
       "  'dunia'],\n",
       " ['ini',\n",
       "  'bukan',\n",
       "  'politik',\n",
       "  'tapi',\n",
       "  'nyata',\n",
       "  'pak',\n",
       "  'jokowi',\n",
       "  'hasil',\n",
       "  'pulang',\n",
       "  '11',\n",
       "  '000',\n",
       "  'triliun',\n",
       "  'uang',\n",
       "  'negara',\n",
       "  'dari',\n",
       "  'swiss',\n",
       "  'maaf',\n",
       "  'mas2',\n",
       "  'dan',\n",
       "  'mbak2',\n",
       "  'ini',\n",
       "  'bukan',\n",
       "  'politik',\n",
       "  'tapi',\n",
       "  'nyata',\n",
       "  'pak',\n",
       "  'jokowi',\n",
       "  'hasil',\n",
       "  'pulang',\n",
       "  '11',\n",
       "  '000',\n",
       "  'triliun',\n",
       "  'uang',\n",
       "  'negara',\n",
       "  'dari',\n",
       "  'swiss',\n",
       "  '11ribu',\n",
       "  'triliun',\n",
       "  'siap',\n",
       "  'di',\n",
       "  'bawa',\n",
       "  'balik',\n",
       "  'ke',\n",
       "  'indonesia',\n",
       "  'ruu',\n",
       "  'treaty',\n",
       "  'on',\n",
       "  'mutual',\n",
       "  'legal',\n",
       "  'assistance',\n",
       "  'in',\n",
       "  'criminal',\n",
       "  'matters',\n",
       "  'between',\n",
       "  'the',\n",
       "  'republic',\n",
       "  'of',\n",
       "  'indonesia',\n",
       "  'and',\n",
       "  'the',\n",
       "  'swiss',\n",
       "  'confederation',\n",
       "  'mla',\n",
       "  'ri-swiss',\n",
       "  'resmi',\n",
       "  'sah',\n",
       "  'dpr',\n",
       "  'ri',\n",
       "  'tanggal',\n",
       "  '3',\n",
       "  'juli',\n",
       "  '2020',\n",
       "  'dengan',\n",
       "  'demikian',\n",
       "  'proses',\n",
       "  'konstitusi',\n",
       "  'tarik',\n",
       "  'dana',\n",
       "  'di',\n",
       "  'swiss',\n",
       "  'sudah',\n",
       "  'selesai',\n",
       "  'juang',\n",
       "  'yang',\n",
       "  'panjang',\n",
       "  'hadap',\n",
       "  'ex',\n",
       "  'koruptor',\n",
       "  'yang',\n",
       "  'bersenggama',\n",
       "  'dengan',\n",
       "  'agama',\n",
       "  'terimakasih',\n",
       "  'para',\n",
       "  'kadrun',\n",
       "  'yang',\n",
       "  'terus',\n",
       "  'nyinyirian',\n",
       "  'kapan',\n",
       "  'uang',\n",
       "  '11',\n",
       "  '000',\n",
       "  'triliun',\n",
       "  'kembali',\n",
       "  'ke',\n",
       "  'indonesia',\n",
       "  'tanpa',\n",
       "  'anda',\n",
       "  'nyinyir',\n",
       "  'rasa',\n",
       "  'sulit',\n",
       "  'ruu',\n",
       "  'itu',\n",
       "  'bisa',\n",
       "  'sah',\n",
       "  'oleh',\n",
       "  'dpr',\n",
       "  'milik',\n",
       "  '84',\n",
       "  'rekening',\n",
       "  'gendut',\n",
       "  'siap',\n",
       "  'siap',\n",
       "  'gigit',\n",
       "  'jari',\n",
       "  'mungkin',\n",
       "  'tekan',\n",
       "  'ke',\n",
       "  'pak',\n",
       "  'jokowi',\n",
       "  'makin',\n",
       "  'kencang',\n",
       "  'ini',\n",
       "  'baca',\n",
       "  'berita'],\n",
       " ['foto',\n",
       "  'kadrun',\n",
       "  'kalo',\n",
       "  'lihat',\n",
       "  'foto',\n",
       "  'ini',\n",
       "  'panas',\n",
       "  'dinginkadrun',\n",
       "  'kalo',\n",
       "  'lihat',\n",
       "  'foto',\n",
       "  'ini',\n",
       "  'panas',\n",
       "  'dingin']]"
      ]
     },
     "execution_count": 31,
     "metadata": {},
     "output_type": "execute_result"
    }
   ],
   "source": [
    "# Melakukan tokenisasi untuk setiap baris dataset\n",
    "tokens = [word_tokenize(element) for element in lower]\n",
    "\n",
    "# Hasil tokenisasi\n",
    "tokens[:5]"
   ]
  },
  {
   "cell_type": "code",
   "execution_count": 32,
   "metadata": {},
   "outputs": [
    {
     "name": "stdout",
     "output_type": "stream",
     "text": [
      "['foto', 'jim', 'rohn', 'jokowi', 'adalah', 'presiden', 'baik', 'dlm', 'sejarah', 'bangsa', 'indonesiajokowi', 'adalah', 'presiden', 'baik', 'dlm', 'sejarah', 'bangsa', 'indonesia', 'jim', 'rohn', 'motivator', 'baik', 'dunia']\n"
     ]
    }
   ],
   "source": [
    "print(tokens[2])"
   ]
  },
  {
   "cell_type": "code",
   "execution_count": 33,
   "metadata": {
    "id": "u5zn15Pw5NEF"
   },
   "outputs": [],
   "source": [
    "X_train, X_test, y_train, y_test = train_test_split(tokens, label, test_size=0.2, stratify=label)"
   ]
  },
  {
   "cell_type": "code",
   "execution_count": 34,
   "metadata": {
    "colab": {
     "base_uri": "https://localhost:8080/"
    },
    "id": "N3t4Fq105kLV",
    "outputId": "e14b90d8-7e7a-48d2-e714-a337e08701c1"
   },
   "outputs": [
    {
     "data": {
      "text/plain": [
       "6584"
      ]
     },
     "execution_count": 34,
     "metadata": {},
     "output_type": "execute_result"
    }
   ],
   "source": [
    "len(X_train)"
   ]
  },
  {
   "cell_type": "code",
   "execution_count": 35,
   "metadata": {
    "colab": {
     "base_uri": "https://localhost:8080/"
    },
    "id": "mtAuMSdB5mLu",
    "outputId": "dbad0aac-d9b6-47a8-d078-a6d93f32c0c7"
   },
   "outputs": [
    {
     "data": {
      "text/plain": [
       "1647"
      ]
     },
     "execution_count": 35,
     "metadata": {},
     "output_type": "execute_result"
    }
   ],
   "source": [
    "len(X_test)"
   ]
  },
  {
   "cell_type": "code",
   "execution_count": 36,
   "metadata": {},
   "outputs": [
    {
     "data": {
      "text/plain": [
       "array([0, 0, 0, ..., 0, 0, 1], dtype=int64)"
      ]
     },
     "execution_count": 36,
     "metadata": {},
     "output_type": "execute_result"
    }
   ],
   "source": [
    "# Encoder for Data Label\n",
    "y_train = Encoder.fit_transform(y_train)\n",
    "y_test = Encoder.fit_transform(y_test)\n",
    "\n",
    "y_train"
   ]
  },
  {
   "cell_type": "code",
   "execution_count": 37,
   "metadata": {
    "id": "EugUgFTJ5n-H"
   },
   "outputs": [
    {
     "data": {
      "text/html": [
       "<style>#sk-container-id-1 {color: black;background-color: white;}#sk-container-id-1 pre{padding: 0;}#sk-container-id-1 div.sk-toggleable {background-color: white;}#sk-container-id-1 label.sk-toggleable__label {cursor: pointer;display: block;width: 100%;margin-bottom: 0;padding: 0.3em;box-sizing: border-box;text-align: center;}#sk-container-id-1 label.sk-toggleable__label-arrow:before {content: \"▸\";float: left;margin-right: 0.25em;color: #696969;}#sk-container-id-1 label.sk-toggleable__label-arrow:hover:before {color: black;}#sk-container-id-1 div.sk-estimator:hover label.sk-toggleable__label-arrow:before {color: black;}#sk-container-id-1 div.sk-toggleable__content {max-height: 0;max-width: 0;overflow: hidden;text-align: left;background-color: #f0f8ff;}#sk-container-id-1 div.sk-toggleable__content pre {margin: 0.2em;color: black;border-radius: 0.25em;background-color: #f0f8ff;}#sk-container-id-1 input.sk-toggleable__control:checked~div.sk-toggleable__content {max-height: 200px;max-width: 100%;overflow: auto;}#sk-container-id-1 input.sk-toggleable__control:checked~label.sk-toggleable__label-arrow:before {content: \"▾\";}#sk-container-id-1 div.sk-estimator input.sk-toggleable__control:checked~label.sk-toggleable__label {background-color: #d4ebff;}#sk-container-id-1 div.sk-label input.sk-toggleable__control:checked~label.sk-toggleable__label {background-color: #d4ebff;}#sk-container-id-1 input.sk-hidden--visually {border: 0;clip: rect(1px 1px 1px 1px);clip: rect(1px, 1px, 1px, 1px);height: 1px;margin: -1px;overflow: hidden;padding: 0;position: absolute;width: 1px;}#sk-container-id-1 div.sk-estimator {font-family: monospace;background-color: #f0f8ff;border: 1px dotted black;border-radius: 0.25em;box-sizing: border-box;margin-bottom: 0.5em;}#sk-container-id-1 div.sk-estimator:hover {background-color: #d4ebff;}#sk-container-id-1 div.sk-parallel-item::after {content: \"\";width: 100%;border-bottom: 1px solid gray;flex-grow: 1;}#sk-container-id-1 div.sk-label:hover label.sk-toggleable__label {background-color: #d4ebff;}#sk-container-id-1 div.sk-serial::before {content: \"\";position: absolute;border-left: 1px solid gray;box-sizing: border-box;top: 0;bottom: 0;left: 50%;z-index: 0;}#sk-container-id-1 div.sk-serial {display: flex;flex-direction: column;align-items: center;background-color: white;padding-right: 0.2em;padding-left: 0.2em;position: relative;}#sk-container-id-1 div.sk-item {position: relative;z-index: 1;}#sk-container-id-1 div.sk-parallel {display: flex;align-items: stretch;justify-content: center;background-color: white;position: relative;}#sk-container-id-1 div.sk-item::before, #sk-container-id-1 div.sk-parallel-item::before {content: \"\";position: absolute;border-left: 1px solid gray;box-sizing: border-box;top: 0;bottom: 0;left: 50%;z-index: -1;}#sk-container-id-1 div.sk-parallel-item {display: flex;flex-direction: column;z-index: 1;position: relative;background-color: white;}#sk-container-id-1 div.sk-parallel-item:first-child::after {align-self: flex-end;width: 50%;}#sk-container-id-1 div.sk-parallel-item:last-child::after {align-self: flex-start;width: 50%;}#sk-container-id-1 div.sk-parallel-item:only-child::after {width: 0;}#sk-container-id-1 div.sk-dashed-wrapped {border: 1px dashed gray;margin: 0 0.4em 0.5em 0.4em;box-sizing: border-box;padding-bottom: 0.4em;background-color: white;}#sk-container-id-1 div.sk-label label {font-family: monospace;font-weight: bold;display: inline-block;line-height: 1.2em;}#sk-container-id-1 div.sk-label-container {text-align: center;}#sk-container-id-1 div.sk-container {/* jupyter's `normalize.less` sets `[hidden] { display: none; }` but bootstrap.min.css set `[hidden] { display: none !important; }` so we also need the `!important` here to be able to override the default hidden behavior on the sphinx rendered scikit-learn.org. See: https://github.com/scikit-learn/scikit-learn/issues/21755 */display: inline-block !important;position: relative;}#sk-container-id-1 div.sk-text-repr-fallback {display: none;}</style><div id=\"sk-container-id-1\" class=\"sk-top-container\"><div class=\"sk-text-repr-fallback\"><pre>TfidfVectorizer()</pre><b>In a Jupyter environment, please rerun this cell to show the HTML representation or trust the notebook. <br />On GitHub, the HTML representation is unable to render, please try loading this page with nbviewer.org.</b></div><div class=\"sk-container\" hidden><div class=\"sk-item\"><div class=\"sk-estimator sk-toggleable\"><input class=\"sk-toggleable__control sk-hidden--visually\" id=\"sk-estimator-id-1\" type=\"checkbox\" checked><label for=\"sk-estimator-id-1\" class=\"sk-toggleable__label sk-toggleable__label-arrow\">TfidfVectorizer</label><div class=\"sk-toggleable__content\"><pre>TfidfVectorizer()</pre></div></div></div></div></div>"
      ],
      "text/plain": [
       "TfidfVectorizer()"
      ]
     },
     "execution_count": 37,
     "metadata": {},
     "output_type": "execute_result"
    }
   ],
   "source": [
    "# Fitting dataset terhadap tf-idf\n",
    "Tfidf_vect.fit([\"\".join(row) for row in X_train])"
   ]
  },
  {
   "cell_type": "code",
   "execution_count": 38,
   "metadata": {},
   "outputs": [],
   "source": [
    "# Save the vectorizer using pickle\n",
    "with open('tfidf_vectorizer.pkl', 'wb') as file:\n",
    "    pickle.dump(Tfidf_vect, file)"
   ]
  },
  {
   "cell_type": "code",
   "execution_count": 39,
   "metadata": {},
   "outputs": [],
   "source": [
    "# Mentransformasikan hasil fitting terhadap data X_train dan X_test\n",
    "X_train_Tfidf = Tfidf_vect.transform([\" \".join(row) for row in X_train])\n",
    "X_test_Tfidf = Tfidf_vect.transform([\" \".join(row) for row in X_test])"
   ]
  },
  {
   "cell_type": "code",
   "execution_count": 40,
   "metadata": {},
   "outputs": [
    {
     "name": "stdout",
     "output_type": "stream",
     "text": [
      "Akurasi dari model :64.35944140862173\n"
     ]
    }
   ],
   "source": [
    "model = MultinomialNB()\n",
    "model.fit(X_train_Tfidf, y_train)\n",
    "\n",
    "akurasi = model.score(X_test_Tfidf, y_test)\n",
    "print(\"Akurasi dari model :\"+str((akurasi)*100))"
   ]
  },
  {
   "cell_type": "code",
   "execution_count": 41,
   "metadata": {},
   "outputs": [],
   "source": [
    "y_pred = model.predict(X_test_Tfidf)\n",
    "report = classification_report(y_test,y_pred)"
   ]
  },
  {
   "cell_type": "code",
   "execution_count": 42,
   "metadata": {},
   "outputs": [
    {
     "name": "stdout",
     "output_type": "stream",
     "text": [
      "[0 1 0 ... 0 0 0]\n"
     ]
    }
   ],
   "source": [
    "print(y_pred)"
   ]
  },
  {
   "cell_type": "code",
   "execution_count": 43,
   "metadata": {},
   "outputs": [
    {
     "name": "stdout",
     "output_type": "stream",
     "text": [
      "              precision    recall  f1-score   support\n",
      "\n",
      "           0       0.62      0.99      0.76       954\n",
      "           1       0.92      0.17      0.28       693\n",
      "\n",
      "    accuracy                           0.64      1647\n",
      "   macro avg       0.77      0.58      0.52      1647\n",
      "weighted avg       0.75      0.64      0.56      1647\n",
      "\n"
     ]
    }
   ],
   "source": [
    "print(report)"
   ]
  },
  {
   "cell_type": "code",
   "execution_count": 44,
   "metadata": {
    "colab": {
     "base_uri": "https://localhost:8080/"
    },
    "id": "UZ1tRiE26WlC",
    "outputId": "86cc0a0d-54bc-43b7-ec95-df9eed591e34"
   },
   "outputs": [
    {
     "data": {
      "text/plain": [
       "1557.30438"
      ]
     },
     "execution_count": 44,
     "metadata": {},
     "output_type": "execute_result"
    }
   ],
   "source": [
    "len(y_test)*0.94554"
   ]
  },
  {
   "cell_type": "code",
   "execution_count": 45,
   "metadata": {},
   "outputs": [],
   "source": [
    "with open(\"mytext.txt\",\"w\", encoding=\"utf-8\") as f:\n",
    "  f.write(feature.iloc[500])"
   ]
  },
  {
   "cell_type": "code",
   "execution_count": 46,
   "metadata": {
    "id": "sLg9Qv-n63xt"
   },
   "outputs": [],
   "source": [
    "with open(\"mytext.txt\",\"r\",encoding=\"utf-8\") as f:\n",
    "  text=f.read()"
   ]
  },
  {
   "cell_type": "code",
   "execution_count": 47,
   "metadata": {},
   "outputs": [
    {
     "data": {
      "text/plain": [
       "'fadlizon mendaulat Anies jadi Duta GermoTUKANG BO’ONG JADI DUTA GERMO? Demi mewujudkan janji saat kampanye “Jakarta Bermaksiat”, @aniesbaswedan segera menyiapkan ‘New Normal’ untuk Diskotek dan Panti Pijat. Atas prestasi spektakuler membuka Diskotek dan Panti Pijat yang dipuja kaum kadrun kadal gurun ini, @fadlizon mendaulat Anies jadi Duta Germo.'"
      ]
     },
     "execution_count": 47,
     "metadata": {},
     "output_type": "execute_result"
    }
   ],
   "source": [
    "text"
   ]
  },
  {
   "cell_type": "code",
   "execution_count": 48,
   "metadata": {
    "id": "aCGQbbwF7FRh"
   },
   "outputs": [],
   "source": [
    "vectorized_ip = Tfidf_vect.transform([text])"
   ]
  },
  {
   "cell_type": "code",
   "execution_count": 49,
   "metadata": {
    "colab": {
     "base_uri": "https://localhost:8080/"
    },
    "id": "888OwXAJ7xo3",
    "outputId": "5081ea24-8f49-41eb-8f83-d1f57783d286"
   },
   "outputs": [
    {
     "name": "stdout",
     "output_type": "stream",
     "text": [
      "Teks tersebut merupakan berita tidak hoax!\n"
     ]
    }
   ],
   "source": [
    "output_array = model.predict(vectorized_ip)\n",
    "result = int(output_array[0])\n",
    "if(result==1):\n",
    "  print(\"Teks tersebut merupakan berita hoax!\")\n",
    "else:\n",
    "  print(\"Teks tersebut merupakan berita tidak hoax!\")"
   ]
  },
  {
   "cell_type": "code",
   "execution_count": 50,
   "metadata": {},
   "outputs": [],
   "source": [
    "# Save the model to a file\n",
    "with open('model_berita.pkl', 'wb') as model_file:\n",
    "    pickle.dump(model, model_file)"
   ]
  },
  {
   "cell_type": "code",
   "execution_count": null,
   "metadata": {},
   "outputs": [],
   "source": []
  }
 ],
 "metadata": {
  "colab": {
   "authorship_tag": "ABX9TyPQu+UQMo36V9L8hbo5ulkz",
   "include_colab_link": true,
   "provenance": []
  },
  "kernelspec": {
   "display_name": "Python 3 (ipykernel)",
   "language": "python",
   "name": "python3"
  },
  "language_info": {
   "codemirror_mode": {
    "name": "ipython",
    "version": 3
   },
   "file_extension": ".py",
   "mimetype": "text/x-python",
   "name": "python",
   "nbconvert_exporter": "python",
   "pygments_lexer": "ipython3",
   "version": "3.11.7"
  }
 },
 "nbformat": 4,
 "nbformat_minor": 4
}
